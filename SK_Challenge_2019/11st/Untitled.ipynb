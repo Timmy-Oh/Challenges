{
 "cells": [
  {
   "cell_type": "code",
   "execution_count": 1,
   "metadata": {},
   "outputs": [],
   "source": [
    "import numpy as np, pandas as pd, _pickle as pkl"
   ]
  },
  {
   "cell_type": "code",
   "execution_count": 2,
   "metadata": {},
   "outputs": [],
   "source": [
    "with open('./trains.pkl', 'rb') as f:\n",
    "    trains = pkl.load(f)"
   ]
  },
  {
   "cell_type": "code",
   "execution_count": 86,
   "metadata": {},
   "outputs": [],
   "source": [
    "df_subm = pd.read_csv('./input/submission.csv')"
   ]
  },
  {
   "cell_type": "code",
   "execution_count": 87,
   "metadata": {},
   "outputs": [],
   "source": [
    "df_val = pd.read_csv('./input/val.csv')"
   ]
  },
  {
   "cell_type": "code",
   "execution_count": 92,
   "metadata": {},
   "outputs": [],
   "source": [
    "its = []\n",
    "for item in df_val.item_id:\n",
    "    its.append(\"\\\"{},{},{}\\\"\".format(item, item, item))"
   ]
  },
  {
   "cell_type": "code",
   "execution_count": 93,
   "metadata": {},
   "outputs": [],
   "source": [
    "df_val3 = df_val"
   ]
  },
  {
   "cell_type": "code",
   "execution_count": 94,
   "metadata": {},
   "outputs": [],
   "source": [
    "df_val3.item_id = its"
   ]
  },
  {
   "cell_type": "code",
   "execution_count": 95,
   "metadata": {},
   "outputs": [],
   "source": [
    "df_val3.rename(columns={'item_id' : 'prediction'}, inplace=True)"
   ]
  },
  {
   "cell_type": "code",
   "execution_count": 96,
   "metadata": {},
   "outputs": [],
   "source": [
    "df_val3.to_csv('./val3.csv', index=False)"
   ]
  },
  {
   "cell_type": "code",
   "execution_count": 49,
   "metadata": {},
   "outputs": [],
   "source": [
    "test_lens = []\n",
    "for u in df_subm.uid:\n",
    "    test_lens.append(len(trains[u]))"
   ]
  },
  {
   "cell_type": "code",
   "execution_count": 61,
   "metadata": {},
   "outputs": [
    {
     "data": {
      "text/plain": [
       "442"
      ]
     },
     "execution_count": 61,
     "metadata": {},
     "output_type": "execute_result"
    }
   ],
   "source": [
    "sum(np.array(test_lens)<10)"
   ]
  },
  {
   "cell_type": "code",
   "execution_count": 47,
   "metadata": {},
   "outputs": [
    {
     "data": {
      "text/plain": [
       "[array([20180701211014865, '13988552323314653437881', 2002576010,\n",
       "        '테슬라 CQR 남성 언더레이어 터틀넥 CQ-TUT102-TGN', 10710, '스포츠 의류', '기능성스포츠의류',\n",
       "        '기능성의류 기타'], dtype=object),\n",
       " array([20180701210847437, '13988552323314653437881', 1979091461,\n",
       "        '[무료배송]CQR 남성용 컴뱃집업 셔츠 CQ-TOS201(3색상 택1)', 19420, '스포츠 의류',\n",
       "        '패딩/다운점퍼', '남성 패딩/다운점퍼'], dtype=object),\n",
       " array([20180701211507668, '13988552323314653437881', 1952066721,\n",
       "        'CQR 택틱컬 팬츠 기능성 바지 작업복 근무복 카고바지', 15210, '등산/아웃도어', '남성등산복',\n",
       "        '등산바지'], dtype=object),\n",
       " array([20180701204711119, '13988552323314653437881', 1977890779,\n",
       "        '밀리터리 전술조끼/SDS Official US Military', 37720, '해외직구', '스포츠/레저',\n",
       "        '스포츠남성패션'], dtype=object)]"
      ]
     },
     "execution_count": 47,
     "metadata": {},
     "output_type": "execute_result"
    }
   ],
   "source": [
    "trains[df_subm.loc[3, 'uid']]"
   ]
  },
  {
   "cell_type": "code",
   "execution_count": 6,
   "metadata": {},
   "outputs": [],
   "source": [
    "ks = trains.keys()"
   ]
  },
  {
   "cell_type": "code",
   "execution_count": 11,
   "metadata": {},
   "outputs": [
    {
     "ename": "ValueError",
     "evalue": "arrays must all be same length",
     "output_type": "error",
     "traceback": [
      "\u001b[1;31m---------------------------------------------------------------------------\u001b[0m",
      "\u001b[1;31mValueError\u001b[0m                                Traceback (most recent call last)",
      "\u001b[1;32m<ipython-input-11-d998af3a9c03>\u001b[0m in \u001b[0;36m<module>\u001b[1;34m\u001b[0m\n\u001b[1;32m----> 1\u001b[1;33m \u001b[0mdf\u001b[0m\u001b[1;33m=\u001b[0m \u001b[0mpd\u001b[0m\u001b[1;33m.\u001b[0m\u001b[0mDataFrame\u001b[0m\u001b[1;33m(\u001b[0m\u001b[0mtrains\u001b[0m\u001b[1;33m)\u001b[0m\u001b[1;33m\u001b[0m\u001b[1;33m\u001b[0m\u001b[0m\n\u001b[0m",
      "\u001b[1;32m~\\Anaconda3\\lib\\site-packages\\pandas\\core\\frame.py\u001b[0m in \u001b[0;36m__init__\u001b[1;34m(self, data, index, columns, dtype, copy)\u001b[0m\n\u001b[0;32m    390\u001b[0m                                  dtype=dtype, copy=copy)\n\u001b[0;32m    391\u001b[0m         \u001b[1;32melif\u001b[0m \u001b[0misinstance\u001b[0m\u001b[1;33m(\u001b[0m\u001b[0mdata\u001b[0m\u001b[1;33m,\u001b[0m \u001b[0mdict\u001b[0m\u001b[1;33m)\u001b[0m\u001b[1;33m:\u001b[0m\u001b[1;33m\u001b[0m\u001b[1;33m\u001b[0m\u001b[0m\n\u001b[1;32m--> 392\u001b[1;33m             \u001b[0mmgr\u001b[0m \u001b[1;33m=\u001b[0m \u001b[0minit_dict\u001b[0m\u001b[1;33m(\u001b[0m\u001b[0mdata\u001b[0m\u001b[1;33m,\u001b[0m \u001b[0mindex\u001b[0m\u001b[1;33m,\u001b[0m \u001b[0mcolumns\u001b[0m\u001b[1;33m,\u001b[0m \u001b[0mdtype\u001b[0m\u001b[1;33m=\u001b[0m\u001b[0mdtype\u001b[0m\u001b[1;33m)\u001b[0m\u001b[1;33m\u001b[0m\u001b[1;33m\u001b[0m\u001b[0m\n\u001b[0m\u001b[0;32m    393\u001b[0m         \u001b[1;32melif\u001b[0m \u001b[0misinstance\u001b[0m\u001b[1;33m(\u001b[0m\u001b[0mdata\u001b[0m\u001b[1;33m,\u001b[0m \u001b[0mma\u001b[0m\u001b[1;33m.\u001b[0m\u001b[0mMaskedArray\u001b[0m\u001b[1;33m)\u001b[0m\u001b[1;33m:\u001b[0m\u001b[1;33m\u001b[0m\u001b[1;33m\u001b[0m\u001b[0m\n\u001b[0;32m    394\u001b[0m             \u001b[1;32mimport\u001b[0m \u001b[0mnumpy\u001b[0m\u001b[1;33m.\u001b[0m\u001b[0mma\u001b[0m\u001b[1;33m.\u001b[0m\u001b[0mmrecords\u001b[0m \u001b[1;32mas\u001b[0m \u001b[0mmrecords\u001b[0m\u001b[1;33m\u001b[0m\u001b[1;33m\u001b[0m\u001b[0m\n",
      "\u001b[1;32m~\\Anaconda3\\lib\\site-packages\\pandas\\core\\internals\\construction.py\u001b[0m in \u001b[0;36minit_dict\u001b[1;34m(data, index, columns, dtype)\u001b[0m\n\u001b[0;32m    210\u001b[0m         \u001b[0marrays\u001b[0m \u001b[1;33m=\u001b[0m \u001b[1;33m[\u001b[0m\u001b[0mdata\u001b[0m\u001b[1;33m[\u001b[0m\u001b[0mk\u001b[0m\u001b[1;33m]\u001b[0m \u001b[1;32mfor\u001b[0m \u001b[0mk\u001b[0m \u001b[1;32min\u001b[0m \u001b[0mkeys\u001b[0m\u001b[1;33m]\u001b[0m\u001b[1;33m\u001b[0m\u001b[1;33m\u001b[0m\u001b[0m\n\u001b[0;32m    211\u001b[0m \u001b[1;33m\u001b[0m\u001b[0m\n\u001b[1;32m--> 212\u001b[1;33m     \u001b[1;32mreturn\u001b[0m \u001b[0marrays_to_mgr\u001b[0m\u001b[1;33m(\u001b[0m\u001b[0marrays\u001b[0m\u001b[1;33m,\u001b[0m \u001b[0mdata_names\u001b[0m\u001b[1;33m,\u001b[0m \u001b[0mindex\u001b[0m\u001b[1;33m,\u001b[0m \u001b[0mcolumns\u001b[0m\u001b[1;33m,\u001b[0m \u001b[0mdtype\u001b[0m\u001b[1;33m=\u001b[0m\u001b[0mdtype\u001b[0m\u001b[1;33m)\u001b[0m\u001b[1;33m\u001b[0m\u001b[1;33m\u001b[0m\u001b[0m\n\u001b[0m\u001b[0;32m    213\u001b[0m \u001b[1;33m\u001b[0m\u001b[0m\n\u001b[0;32m    214\u001b[0m \u001b[1;33m\u001b[0m\u001b[0m\n",
      "\u001b[1;32m~\\Anaconda3\\lib\\site-packages\\pandas\\core\\internals\\construction.py\u001b[0m in \u001b[0;36marrays_to_mgr\u001b[1;34m(arrays, arr_names, index, columns, dtype)\u001b[0m\n\u001b[0;32m     49\u001b[0m     \u001b[1;31m# figure out the index, if necessary\u001b[0m\u001b[1;33m\u001b[0m\u001b[1;33m\u001b[0m\u001b[1;33m\u001b[0m\u001b[0m\n\u001b[0;32m     50\u001b[0m     \u001b[1;32mif\u001b[0m \u001b[0mindex\u001b[0m \u001b[1;32mis\u001b[0m \u001b[1;32mNone\u001b[0m\u001b[1;33m:\u001b[0m\u001b[1;33m\u001b[0m\u001b[1;33m\u001b[0m\u001b[0m\n\u001b[1;32m---> 51\u001b[1;33m         \u001b[0mindex\u001b[0m \u001b[1;33m=\u001b[0m \u001b[0mextract_index\u001b[0m\u001b[1;33m(\u001b[0m\u001b[0marrays\u001b[0m\u001b[1;33m)\u001b[0m\u001b[1;33m\u001b[0m\u001b[1;33m\u001b[0m\u001b[0m\n\u001b[0m\u001b[0;32m     52\u001b[0m     \u001b[1;32melse\u001b[0m\u001b[1;33m:\u001b[0m\u001b[1;33m\u001b[0m\u001b[1;33m\u001b[0m\u001b[0m\n\u001b[0;32m     53\u001b[0m         \u001b[0mindex\u001b[0m \u001b[1;33m=\u001b[0m \u001b[0mensure_index\u001b[0m\u001b[1;33m(\u001b[0m\u001b[0mindex\u001b[0m\u001b[1;33m)\u001b[0m\u001b[1;33m\u001b[0m\u001b[1;33m\u001b[0m\u001b[0m\n",
      "\u001b[1;32m~\\Anaconda3\\lib\\site-packages\\pandas\\core\\internals\\construction.py\u001b[0m in \u001b[0;36mextract_index\u001b[1;34m(data)\u001b[0m\n\u001b[0;32m    315\u001b[0m             \u001b[0mlengths\u001b[0m \u001b[1;33m=\u001b[0m \u001b[0mlist\u001b[0m\u001b[1;33m(\u001b[0m\u001b[0mset\u001b[0m\u001b[1;33m(\u001b[0m\u001b[0mraw_lengths\u001b[0m\u001b[1;33m)\u001b[0m\u001b[1;33m)\u001b[0m\u001b[1;33m\u001b[0m\u001b[1;33m\u001b[0m\u001b[0m\n\u001b[0;32m    316\u001b[0m             \u001b[1;32mif\u001b[0m \u001b[0mlen\u001b[0m\u001b[1;33m(\u001b[0m\u001b[0mlengths\u001b[0m\u001b[1;33m)\u001b[0m \u001b[1;33m>\u001b[0m \u001b[1;36m1\u001b[0m\u001b[1;33m:\u001b[0m\u001b[1;33m\u001b[0m\u001b[1;33m\u001b[0m\u001b[0m\n\u001b[1;32m--> 317\u001b[1;33m                 \u001b[1;32mraise\u001b[0m \u001b[0mValueError\u001b[0m\u001b[1;33m(\u001b[0m\u001b[1;34m'arrays must all be same length'\u001b[0m\u001b[1;33m)\u001b[0m\u001b[1;33m\u001b[0m\u001b[1;33m\u001b[0m\u001b[0m\n\u001b[0m\u001b[0;32m    318\u001b[0m \u001b[1;33m\u001b[0m\u001b[0m\n\u001b[0;32m    319\u001b[0m             \u001b[1;32mif\u001b[0m \u001b[0mhave_dicts\u001b[0m\u001b[1;33m:\u001b[0m\u001b[1;33m\u001b[0m\u001b[1;33m\u001b[0m\u001b[0m\n",
      "\u001b[1;31mValueError\u001b[0m: arrays must all be same length"
     ]
    }
   ],
   "source": [
    "df= pd.DataFrame(trains)"
   ]
  },
  {
   "cell_type": "code",
   "execution_count": 13,
   "metadata": {},
   "outputs": [
    {
     "data": {
      "text/plain": [
       "[array([20180725163443627, '15296467971395581275090', 2022841735,\n",
       "        '에이플러스 스테이크소스260g A+/스테이크소스/돈가스', 2000, '가공식품', '소스', '소스 기타'],\n",
       "       dtype=object),\n",
       " array([20180725163721337, '15296467971395581275090', 2117220028,\n",
       "        '오쉐프 데미그라스 3kg 1개 데미글라소스 양식 소스', 10200, '가공식품', '소스', '소스 기타'],\n",
       "       dtype=object),\n",
       " array([20180725163812153, '15296467971395581275090', 1078152755,\n",
       "        '하인즈 데미그라스소스 290g 원터치', 2800, '가공식품', '조미료/양념', '조림/찌개소스'],\n",
       "       dtype=object),\n",
       " array([20180725164012508, '15296467971395581275090', 2069878143,\n",
       "        '[토리식품] 두레생협 돈가스소스(330g) 떡갈비소스 볶음밥소스 동그랑땡소스 돈가스소스 토마토돈가스', 14070,\n",
       "        '가공식품', '소스', '돈까스소스'], dtype=object),\n",
       " array([20180725162037417, '15296467971395581275090', 2000917901,\n",
       "        'CJ 이츠웰 스테이크소스 2k 소스 안심 함박 스테이', 14620, '가공식품', '소스', '스테이크소스'],\n",
       "       dtype=object),\n",
       " array([20180725162736217, '15296467971395581275090', 2015122729,\n",
       "        '[순수정육] 무항생제 유황오리 울금떡갈비1팩 200g 냉동', 5500, '축산', '축산가공식품', '소시지'],\n",
       "       dtype=object),\n",
       " array([20180703134208754, '15296467971395581275090', 136900376,\n",
       "        '에이원(A1) 스테이크 소스 283g/돈까스/드레싱/함박/티본/햄버그/갈비/불고기', 3870, '가공식품',\n",
       "        '소스', '돈까스소스'], dtype=object),\n",
       " array([20180727151611117, '15296467971395581275090', 1009569033,\n",
       "        '키친아트 IH 인덕션 후라이팬 궁중팬', 18000, '주방용품', '후라이팬', '일반 후라이팬'],\n",
       "       dtype=object),\n",
       " array([20180727151707799, '15296467971395581275090', 1863115584,\n",
       "        '퀸센스 입체 티타늄5중코팅 후라이팬 프라이팬 궁중팬', 14600, '주방용품', '후라이팬', '일반 후라이팬'],\n",
       "       dtype=object),\n",
       " array([20180727152015822, '15296467971395581275090', 1270351656,\n",
       "        '폰타나 레드와인 스테이크소스 265G', 4380, '가공식품', '소스', '소스 기타'], dtype=object),\n",
       " array([20180727152517139, '15296467971395581275090', 2005279599,\n",
       "        'CJ백설 스테이크소스310g 데리야끼 칠리소스 소스', 9030, '가공식품', '소스', '칠리/핫소스'],\n",
       "       dtype=object),\n",
       " array([20180727151257385, '15296467971395581275090', 1984529579,\n",
       "        '코맘스 에그팬20cm 프라이팬28cm 궁중팬28cm 단품세트', 19900, '주방용품', '후라이팬',\n",
       "        '후라이팬 세트'], dtype=object),\n",
       " array([20180727151323527, '15296467971395581275090', 151760300,\n",
       "        '(풍년/후라이팬/14종)궁중팬/볶음펜/스텐/미니/주물', 14900, '주방용품', '후라이팬', '일반 후라이팬'],\n",
       "       dtype=object),\n",
       " array([20180727151403891, '15296467971395581275090', 972610016,\n",
       "        '키친아트 스마트 후라이팬1+1균일가/궁중팬/그릴팬', 13920, '주방용품', '후라이팬', '후라이팬 세트'],\n",
       "       dtype=object),\n",
       " array([20180727152937636, '15296467971395581275090', 1103898525,\n",
       "        '[홈플러스]오뚜기_순후추캔_100G', 4490, '가공식품', '조미료/양념', '향신료'], dtype=object),\n",
       " array([20180727152029530, '15296467971395581275090', 1270351656,\n",
       "        '폰타나 레드와인 스테이크소스 265G', 4280, '가공식품', '소스', '소스 기타'], dtype=object),\n",
       " array([20180725163500528, '15296467971395581275090', 2022841735,\n",
       "        '에이플러스 스테이크소스260g A+/스테이크소스/돈가스', 2000, '가공식품', '소스', '소스 기타'],\n",
       "       dtype=object),\n",
       " array([20180725163906097, '15296467971395581275090', 1566660335,\n",
       "        '[코스트코 냉장냉동] CJ GOURMET 함박 스테이크 810g (소스포함)', 12070, '축산',\n",
       "        '축산가공식품', '떡갈비'], dtype=object),\n",
       " array([20180725162608220, '15296467971395581275090', 2108080429,\n",
       "        '핫 신상 출시굽네 더블소스 치킨스테이크 로제 170g 5팩_HN03/ 굽네몰', 18800, '축산', '닭고기',\n",
       "        '닭가슴살'], dtype=object),\n",
       " array([20180725163017683, '15296467971395581275090', 2005279343,\n",
       "        '폰타나레드와인 스테이크소스265g 폰타나 레드와인', 9190, '가공식품', '소스', '스테이크소스'],\n",
       "       dtype=object),\n",
       " array([20180725163039713, '15296467971395581275090', 1527865968,\n",
       "        '무배/보감 가정용소스 /데리야끼/머스타드/타르/칠리', 3400, '가공식품', '소스', '칠리/핫소스'],\n",
       "       dtype=object),\n",
       " array([20180717175451918, '15296467971395581275090', 1745124092,\n",
       "        '대만산 탕웰 스무디 9종 택1/청사과/망고/키위/복숭아', 9490, '가공식품', '시럽', '시럽'],\n",
       "       dtype=object),\n",
       " array([20180718094301415, '15296467971395581275090', 1479290364,\n",
       "        '[삼백식품] 아이스홍시100% 스무디(150mlx30개)', 33860, '농산', '과일', '단감'],\n",
       "       dtype=object),\n",
       " array([20180725162120325, '15296467971395581275090', 2107201000,\n",
       "        '(주)나이스푸드 칠리스테이크소스300g(50ea/box)', 1600, '가공식품', '소스', '소스 기타'],\n",
       "       dtype=object),\n",
       " array([20180725162324849, '15296467971395581275090', 2039266437,\n",
       "        '스테이크소스(오뚜기 415g)/국물/소스/스프/빕스스테', 2050, '가공식품', '소스', '소스 기타'],\n",
       "       dtype=object),\n",
       " array([20180725162629381, '15296467971395581275090', 2108080013,\n",
       "        '핫 신상 출시굽네 더블소스 치킨스테이크 볼케이노 170g 5팩_HK03/ 굽네몰', 18800, '축산', '닭고기',\n",
       "        '닭가슴살'], dtype=object),\n",
       " array([20180725162648481, '15296467971395581275090', 2107405114,\n",
       "        '굽네 더블소스치킨스테이크 데미그라스170g*5팩 HM03', 21300, '축산', '축산가공식품',\n",
       "        '스테이크/폭립'], dtype=object),\n",
       " array([20180725162841230, '15296467971395581275090', 10439135,\n",
       "        'A1스테이크소스/헌트바베큐소스/파운틴스테이크소스', 4200, '가공식품', '소스', '바비큐소스'],\n",
       "       dtype=object),\n",
       " array([20180725163546196, '15296467971395581275090', 2005279599,\n",
       "        'CJ백설 스테이크소스310g 데리야끼 칠리소스 소스', 9030, '가공식품', '소스', '칠리/핫소스'],\n",
       "       dtype=object),\n",
       " array([20180725161823526, '15296467971395581275090', 2112554243,\n",
       "        '굽네 볼케이노 소스 290g*3병 AV03', 14200, '가공식품', '소스', '칠리/핫소스'],\n",
       "       dtype=object),\n",
       " array([20180725161929741, '15296467971395581275090', 76389670,\n",
       "        '[ 이츠웰 스테이크소스 2kg]', 5500, '가공식품', '소스', '소스 기타'], dtype=object),\n",
       " array([20180725162138408, '15296467971395581275090', 1903333045,\n",
       "        '나이스 칠리 스테이크소스 300g', 2900, '가공식품', '소스', '스테이크소스'], dtype=object),\n",
       " array([20180725163134228, '15296467971395581275090', 1062272004,\n",
       "        '보감 소스모음/타르타르소스 데리야끼 칠리 돈까스', 2500, '가공식품', '소스', '돈까스소스'],\n",
       "       dtype=object),\n",
       " array([20180730152204613, '15296467971395581275090', 1541128427,\n",
       "        '로얄캐닌 반려묘 습식팩 8종', 1350, '고양이용품', '고양이사료', '고양이사료'], dtype=object),\n",
       " array([20180730155635703, '15296467971395581275090', 2114061099,\n",
       "        '[상세설명참조] (선택 : 참치) 24개묶음 쉬바 파우치 70g 종류선택 고양이사료 애묘사료 애완묘사료 반려묘사료 습식사료',\n",
       "        36750, '고양이용품', '고양이사료', '고양이사료'], dtype=object),\n",
       " array([20180727152441434, '15296467971395581275090', 2106158685,\n",
       "        '굽네 볼케이노 소스 290g 3개_NK04', 13900, '가공식품', '소스', '칠리/핫소스'],\n",
       "       dtype=object),\n",
       " array([20180727153027080, '15296467971395581275090', 1468051183,\n",
       "        '[홈플러스]하인즈_데미그라스소스_290G', 3290, '가공식품', '조미료/양념', '조림/찌개소스'],\n",
       "       dtype=object),\n",
       " array([20180726143527585, '15296467971395581275090', 593799435,\n",
       "        '(샘표 진간장 금F3 1.8L x 2개) 진간장1.8Lx2개/양조', 8500, '가공식품', '장류', '간장'],\n",
       "       dtype=object),\n",
       " array([20180726143727691, '15296467971395581275090', 336025448,\n",
       "        '[성주리된장]국산콩100%/전통된장,고추장,간장,청국장', 14800, '가공식품', '장류', '장류 기타'],\n",
       "       dtype=object),\n",
       " array([20180726144024278, '15296467971395581275090', 1085342585,\n",
       "        '백설 올리고당 /요리당 /물엿 /찹쌀엿 /올리고물엿 700g 1.2kg', 2200, '가공식품', '조미료/양념',\n",
       "        '올리고당'], dtype=object),\n",
       " array([20180726144115032, '15296467971395581275090', 1857402194,\n",
       "        'CJ 요리당 1.2kg', 4680, '가공식품', '조미료/양념', '물엿'], dtype=object),\n",
       " array([20180726144859940, '15296467971395581275090', 1970933458,\n",
       "        '[사조해표] 순창궁 우리햅쌀 고추장 170g 태양초 고추장등 모음전', 1200, '가공식품', '장류', '고추장'],\n",
       "       dtype=object),\n",
       " array([20180726143842216, '15296467971395581275090', 501692944,\n",
       "        '[샘표] 양조간장 1.8L 701/501/진간장F3 1.8L', 9700, '가공식품', '장류', '간장'],\n",
       "       dtype=object),\n",
       " array([20180726144157570, '15296467971395581275090', 1978819022,\n",
       "        '(전남오픈마켓/햇고을)고흥 깐마늘/다진마늘 500g/1kg', 7900, '농산', '채소', '마늘'],\n",
       "       dtype=object),\n",
       " array([20180726145059651, '15296467971395581275090', 1387371687,\n",
       "        '흑후추홀 300g 백후추 150g 후추가루 300g 후추분말', 6900, '가공식품', '조미료/양념', '후추'],\n",
       "       dtype=object),\n",
       " array([20180726145220741, '15296467971395581275090', 1731543299,\n",
       "        '델리신 캡사이신 소스 /분말 불닭 바베큐 고추기름', 6900, '가공식품', '소스', '바비큐소스'],\n",
       "       dtype=object),\n",
       " array([20180726145603250, '15296467971395581275090', 1646010830,\n",
       "        '물엿(이온 오뚜기 1.2K)/ 식자재 전문', 6000, '가공식품', '조미료/양념', '물엿'],\n",
       "       dtype=object),\n",
       " array([20180726144348778, '15296467971395581275090', 2015970169,\n",
       "        '(500g)빼어날 수 국산 최상급 고춧가루 청양/일반 등', 9800, '농산', '채소', '건고추'],\n",
       "       dtype=object),\n",
       " array([20180726145140438, '15296467971395581275090', 2099867367,\n",
       "        '1등급 후추분 200g 천연향신료 삽겹살 스테이크', 5300, '가공식품', '조미료/양념', '후추'],\n",
       "       dtype=object),\n",
       " array([20180726145013694, '15296467971395581275090', 2101606572,\n",
       "        '말레이시아산 통후추 호초 300g', 5000, '건강식품', '한방재료', '한방재료 기타'],\n",
       "       dtype=object),\n",
       " array([20180726145450572, '15296467971395581275090', 2065041548,\n",
       "        '[상세설명참조] 미향 360ml 조미료 액상조미료 미림 미향360ML 레몬식', 5440, '가공식품',\n",
       "        '조미료/양념', '식초'], dtype=object)]"
      ]
     },
     "execution_count": 13,
     "metadata": {},
     "output_type": "execute_result"
    }
   ],
   "source": [
    "item"
   ]
  },
  {
   "cell_type": "code",
   "execution_count": 15,
   "metadata": {},
   "outputs": [],
   "source": [
    "lens = []\n",
    "for key, item in trains.items():\n",
    "#     print(key, item)\n",
    "    lens.append(len(item))"
   ]
  },
  {
   "cell_type": "code",
   "execution_count": 16,
   "metadata": {},
   "outputs": [
    {
     "data": {
      "text/plain": [
       "230559"
      ]
     },
     "execution_count": 16,
     "metadata": {},
     "output_type": "execute_result"
    }
   ],
   "source": [
    "len(lens)"
   ]
  },
  {
   "cell_type": "code",
   "execution_count": 30,
   "metadata": {},
   "outputs": [
    {
     "data": {
      "text/plain": [
       "1281"
      ]
     },
     "execution_count": 30,
     "metadata": {},
     "output_type": "execute_result"
    }
   ],
   "source": [
    "sum(np.array(lens)>500)"
   ]
  },
  {
   "cell_type": "code",
   "execution_count": null,
   "metadata": {},
   "outputs": [],
   "source": []
  }
 ],
 "metadata": {
  "kernelspec": {
   "display_name": "Python 3",
   "language": "python",
   "name": "python3"
  },
  "language_info": {
   "codemirror_mode": {
    "name": "ipython",
    "version": 3
   },
   "file_extension": ".py",
   "mimetype": "text/x-python",
   "name": "python",
   "nbconvert_exporter": "python",
   "pygments_lexer": "ipython3",
   "version": "3.7.3"
  }
 },
 "nbformat": 4,
 "nbformat_minor": 2
}
