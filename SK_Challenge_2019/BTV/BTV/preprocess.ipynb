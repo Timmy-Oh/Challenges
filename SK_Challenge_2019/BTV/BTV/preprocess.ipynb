{
 "cells": [
  {
   "cell_type": "code",
   "execution_count": 1,
   "metadata": {},
   "outputs": [],
   "source": [
    "import pandas as pd, numpy as np\n",
    "import _pickle as pkl\n",
    "import math\n",
    "\n",
    "from sklearn.model_selection import train_test_split"
   ]
  },
  {
   "cell_type": "code",
   "execution_count": 2,
   "metadata": {},
   "outputs": [],
   "source": [
    "# df_movies = pd.read_csv('./input/SKB_DLP_MOVIES.csv', encoding='cp949')\n",
    "# df_test = pd.read_csv('./input/SKB_DLP_QUESTION.csv', encoding='cp949')\n",
    "df_views = pd.read_csv('./input/SKB_DLP_VIEWS.csv', encoding='cp949')"
   ]
  },
  {
   "cell_type": "code",
   "execution_count": 3,
   "metadata": {},
   "outputs": [
    {
     "name": "stdout",
     "output_type": "stream",
     "text": [
      "227023/227200"
     ]
    }
   ],
   "source": [
    "# build user set \n",
    "users = df_views.USER_ID.unique()\n",
    "\n",
    "# user별 data 체크\n",
    "userlen = len(users)\n",
    "uid_stan, idx_stan = 0, 0\n",
    "start_idx, end_idx = 0, 0\n",
    "\n",
    "df_meta = []\n",
    "for i, uid in enumerate(df_views.USER_ID):\n",
    "    if i % 10000 ==0:\n",
    "        print(\"\\r{}/{}\".format(uid, userlen), end='')\n",
    "    if uid != uid_stan:\n",
    "        end_idx = i-1\n",
    "        df_meta.append(np.array([uid-1, i- idx_stan, start_idx, end_idx]))\n",
    "        start_idx = i\n",
    "        idx_stan = i\n",
    "        uid_stan = uid\n",
    "        \n",
    "    else:\n",
    "        continue\n",
    "end_idx = i-1\n",
    "df_meta.append(np.array([uid-1, i- idx_stan, start_idx, end_idx]))\n",
    "df_meta = np.array(df_meta)"
   ]
  },
  {
   "cell_type": "markdown",
   "metadata": {},
   "source": [
    "# Train / Valid Split"
   ]
  },
  {
   "cell_type": "code",
   "execution_count": 4,
   "metadata": {},
   "outputs": [],
   "source": [
    "# filter small user\n",
    "small_user = df_meta[df_meta[:,1]<11][:,0]\n",
    "users = np.delete(users, small_user)\n",
    "\n",
    "np.random.seed(seed=1991)\n",
    "np.random.shuffle(users)\n",
    "\n",
    "fold_size = math.ceil(len(users)/4)"
   ]
  },
  {
   "cell_type": "code",
   "execution_count": 7,
   "metadata": {},
   "outputs": [],
   "source": [
    "stride = 'hexa5'"
   ]
  },
  {
   "cell_type": "code",
   "execution_count": 9,
   "metadata": {},
   "outputs": [
    {
     "name": "stdout",
     "output_type": "stream",
     "text": [
      "3\n",
      "216000/227200"
     ]
    }
   ],
   "source": [
    "for k in range(4):\n",
    "    print(k)\n",
    "    valid_user = users[k*fold_size : (k+1)*fold_size]\n",
    "    train_user = users[np.invert(np.isin(users, valid_user))]\n",
    "\n",
    "    train_meta = df_meta[np.isin(df_meta[:, 0], train_user)]\n",
    "    valid_meta = df_meta[np.isin(df_meta[:, 0], valid_user)]\n",
    "    # user별 Data Slicing\n",
    "    userlen = len(users)\n",
    "\n",
    "    valids_x, valids_y = [], []\n",
    "    # valid preprcoess // 10개까진 train용, 11부터는 label용\n",
    "    for uid, length, start, end in valid_meta:\n",
    "        if uid % 8000 == 0:\n",
    "            print(\"\\r{}/{}\".format(uid, len(df_meta)), end='')\n",
    "\n",
    "        subset = df_views.iloc[start:end+1]\n",
    "        data = subset[:10].values.tolist()\n",
    "        label = subset[10:].MOVIE_ID.unique().tolist()\n",
    "        valids_x.append(data)\n",
    "        valids_y.append(np.array(label, dtype=np.uint16))    \n",
    "\n",
    "    trains_x, trains_y = [], []\n",
    "    \n",
    "    # train preprocess\n",
    "    for uid, length, start, end in train_meta:\n",
    "        if uid % 8000 == 0:\n",
    "            print(\"\\r{}/{}\".format(uid, len(df_meta)), end='')\n",
    "\n",
    "        subset = df_views.iloc[start:end+1]\n",
    "        for i in range(0, 26, 5):\n",
    "    \n",
    "            data = subset[i:i+10].values.tolist()\n",
    "            label = subset[i+10:].MOVIE_ID.unique().tolist()\n",
    "            if label != []:\n",
    "                trains_x.append(data)\n",
    "                trains_y.append(np.array(label, dtype=np.uint16))\n",
    "\n",
    "    with open('./temp/train_slide_last_{}_{}.pkl'.format(stride, k), 'wb') as f:\n",
    "        pkl.dump([trains_x, trains_y], f)\n",
    "    with open('./temp/valid_slide_last_{}_{}.pkl'.format(stride, k), 'wb') as f:\n",
    "        pkl.dump([valids_x, valids_y], f)\n",
    "    print()"
   ]
  },
  {
   "cell_type": "markdown",
   "metadata": {},
   "source": [
    "# End of Preprocessing"
   ]
  }
 ],
 "metadata": {
  "kernelspec": {
   "display_name": "Python 3",
   "language": "python",
   "name": "python3"
  },
  "language_info": {
   "codemirror_mode": {
    "name": "ipython",
    "version": 3
   },
   "file_extension": ".py",
   "mimetype": "text/x-python",
   "name": "python",
   "nbconvert_exporter": "python",
   "pygments_lexer": "ipython3",
   "version": "3.7.3"
  }
 },
 "nbformat": 4,
 "nbformat_minor": 2
}
