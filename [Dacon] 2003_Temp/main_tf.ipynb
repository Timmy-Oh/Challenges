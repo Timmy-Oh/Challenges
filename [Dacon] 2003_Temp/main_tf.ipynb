{
 "cells": [
  {
   "cell_type": "code",
   "execution_count": 1,
   "metadata": {},
   "outputs": [],
   "source": [
    "import pandas as pd\n",
    "import numpy as np\n",
    "import os\n",
    "\n",
    "from utils import *\n",
    "import tensorflow as tf\n",
    "from sklearn.preprocessing import minmax_scale"
   ]
  },
  {
   "cell_type": "code",
   "execution_count": 2,
   "metadata": {},
   "outputs": [],
   "source": [
    "df = pd.read_csv('./data/train.csv')\n",
    "df_tst = pd.read_csv('./data/test.csv')\n",
    "subm = pd.read_csv('./data/sample_submission.csv')"
   ]
  },
  {
   "cell_type": "code",
   "execution_count": 3,
   "metadata": {},
   "outputs": [],
   "source": [
    "df[Xs] = minmax_scale(df[Xs])\n",
    "\n",
    "Ys = ['Y{}'.format(str(i).zfill(2)) for i in range(16, 19)]\n",
    "df['Y'] = df.loc[:, Ys].mean(axis=1)\n",
    "\n",
    "df_trn = df[df['Y18'].isna()]\n",
    "df_val = df[df['Y00'].isna()]"
   ]
  },
  {
   "cell_type": "code",
   "execution_count": 4,
   "metadata": {},
   "outputs": [],
   "source": [
    "def df2seqs(df, time_range=14, vals=200):\n",
    "    seqs = []\n",
    "    for i in range(len(df) - time_range+1):\n",
    "        seqs.append(df.iloc[i:i+time_range])\n",
    "\n",
    "    data_len = len(seqs)\n",
    "    trn_X, trn_Y = [], []\n",
    "    val_X, val_Y = [], []\n",
    "\n",
    "    for i in range(data_len - vals):\n",
    "        seq = seqs[i]\n",
    "        trn_X.append(seq[Xs].values)\n",
    "        trn_Y.append(seq['Y'].values[-1])\n",
    "\n",
    "    for i in range(data_len-vals, data_len):\n",
    "        seq = seqs[i]\n",
    "        val_X.append(seq[Xs].values)\n",
    "        val_Y.append(seq['Y'].values[-1])\n",
    "\n",
    "\n",
    "    trn_X = np.array(trn_X)\n",
    "    trn_Y = np.array(trn_Y)\n",
    "    val_X = np.array(val_X)\n",
    "    val_Y = np.array(val_Y)\n",
    "    \n",
    "    return trn_X, trn_Y, val_X, val_Y"
   ]
  },
  {
   "cell_type": "code",
   "execution_count": 5,
   "metadata": {},
   "outputs": [],
   "source": [
    "def df2seqs_test(df_tst, df_val, time_range=14):\n",
    "    df = pd.concat([df_val, df_tst]).reset_index()\n",
    "    seqs = []\n",
    "    for i in range(len(df) - time_range +1):\n",
    "        seqs.append(df.iloc[i:i+time_range])\n",
    "\n",
    "    data_len = len(seqs)\n",
    "    test_X = []\n",
    "\n",
    "    for i in range(data_len):\n",
    "        seq = seqs[i]\n",
    "        test_X.append(seq[Xs].values)\n",
    "\n",
    "    return np.array(test_X)"
   ]
  },
  {
   "cell_type": "code",
   "execution_count": 6,
   "metadata": {},
   "outputs": [],
   "source": [
    "time_range = 14\n",
    "\n",
    "trn_X, trn_Y, val_X, val_Y = df2seqs(df_trn, time_range)\n",
    "trn_X2, trn_Y2, val_X2, val_Y2 = df2seqs(df_val, time_range)\n",
    "\n",
    "test_X = df2seqs_test(df_tst, df[-time_range+1:], time_range)"
   ]
  },
  {
   "cell_type": "code",
   "execution_count": 7,
   "metadata": {},
   "outputs": [
    {
     "data": {
      "text/plain": [
       "(11520, 14, 40)"
      ]
     },
     "execution_count": 7,
     "metadata": {},
     "output_type": "execute_result"
    }
   ],
   "source": [
    "test_X.shape"
   ]
  },
  {
   "cell_type": "markdown",
   "metadata": {},
   "source": [
    "# Model"
   ]
  },
  {
   "cell_type": "code",
   "execution_count": 8,
   "metadata": {},
   "outputs": [],
   "source": [
    "tf.keras.backend.clear_session()\n",
    "\n",
    "inp = tf.keras.layers.Input([time_range, 40])\n",
    "\n",
    "x = tf.keras.layers.LSTM(120, return_sequences=True)(inp)\n",
    "x = tf.keras.layers.LSTM(80)(x)\n",
    "x = tf.keras.layers.Dense(64, activation='relu')(x)\n",
    "x = tf.keras.layers.Dense(32, activation='relu')(x)\n",
    "\n",
    "outp = tf.keras.layers.Dense(1, activation='linear')(x)"
   ]
  },
  {
   "cell_type": "code",
   "execution_count": 9,
   "metadata": {},
   "outputs": [],
   "source": [
    "mdl = tf.keras.models.Model(inputs=inp, outputs=outp)\n",
    "mdl.compile(optimizer='adam', loss='mse')"
   ]
  },
  {
   "cell_type": "code",
   "execution_count": 11,
   "metadata": {},
   "outputs": [
    {
     "name": "stdout",
     "output_type": "stream",
     "text": [
      "Train on 4107 samples, validate on 200 samples\n",
      "Epoch 1/40\n",
      "4107/4107 - 0s - loss: 2.0120 - val_loss: 3.6633\n",
      "Epoch 2/40\n",
      "4107/4107 - 0s - loss: 1.9127 - val_loss: 5.5786\n",
      "Epoch 3/40\n",
      "4107/4107 - 0s - loss: 2.1476 - val_loss: 4.1241\n",
      "Epoch 4/40\n",
      "4107/4107 - 0s - loss: 1.9272 - val_loss: 4.5608\n",
      "Epoch 5/40\n",
      "4107/4107 - 0s - loss: 1.8828 - val_loss: 5.8930\n",
      "Epoch 6/40\n",
      "4107/4107 - 0s - loss: 2.2200 - val_loss: 3.7342\n",
      "Epoch 7/40\n",
      "4107/4107 - 0s - loss: 2.3342 - val_loss: 6.9067\n",
      "Epoch 8/40\n",
      "4107/4107 - 0s - loss: 2.7866 - val_loss: 3.6823\n",
      "Epoch 9/40\n",
      "4107/4107 - 0s - loss: 1.9123 - val_loss: 4.7364\n",
      "Epoch 10/40\n",
      "4107/4107 - 0s - loss: 1.7812 - val_loss: 3.7088\n",
      "Epoch 11/40\n",
      "4107/4107 - 0s - loss: 1.6623 - val_loss: 4.4460\n",
      "Epoch 12/40\n",
      "4107/4107 - 0s - loss: 1.6727 - val_loss: 4.9219\n",
      "Epoch 13/40\n",
      "4107/4107 - 0s - loss: 1.8325 - val_loss: 4.5071\n",
      "Epoch 14/40\n",
      "4107/4107 - 0s - loss: 1.5520 - val_loss: 3.8104\n",
      "Epoch 15/40\n",
      "4107/4107 - 0s - loss: 1.5768 - val_loss: 5.8429\n",
      "Epoch 16/40\n",
      "4107/4107 - 0s - loss: 1.7163 - val_loss: 4.0513\n",
      "Epoch 17/40\n",
      "4107/4107 - 0s - loss: 1.4755 - val_loss: 4.2678\n",
      "Epoch 18/40\n",
      "4107/4107 - 0s - loss: 1.5301 - val_loss: 4.3668\n",
      "Epoch 19/40\n",
      "4107/4107 - 0s - loss: 1.3348 - val_loss: 4.4487\n",
      "Epoch 20/40\n",
      "4107/4107 - 0s - loss: 1.3544 - val_loss: 5.4192\n",
      "Epoch 21/40\n",
      "4107/4107 - 0s - loss: 1.4648 - val_loss: 4.6914\n",
      "Epoch 22/40\n",
      "4107/4107 - 0s - loss: 1.2780 - val_loss: 3.8695\n",
      "Epoch 23/40\n",
      "4107/4107 - 0s - loss: 1.7071 - val_loss: 4.3638\n",
      "Epoch 24/40\n",
      "4107/4107 - 0s - loss: 1.6049 - val_loss: 4.3628\n",
      "Epoch 25/40\n",
      "4107/4107 - 0s - loss: 2.0154 - val_loss: 2.9618\n",
      "Epoch 26/40\n",
      "4107/4107 - 0s - loss: 1.5208 - val_loss: 4.6163\n",
      "Epoch 27/40\n",
      "4107/4107 - 0s - loss: 1.3594 - val_loss: 5.1633\n",
      "Epoch 28/40\n",
      "4107/4107 - 0s - loss: 1.4819 - val_loss: 3.1348\n",
      "Epoch 29/40\n",
      "4107/4107 - 0s - loss: 1.2986 - val_loss: 4.3111\n",
      "Epoch 30/40\n",
      "4107/4107 - 0s - loss: 1.3863 - val_loss: 4.4306\n",
      "Epoch 31/40\n",
      "4107/4107 - 0s - loss: 1.2209 - val_loss: 4.8134\n",
      "Epoch 32/40\n",
      "4107/4107 - 0s - loss: 1.2430 - val_loss: 5.0364\n",
      "Epoch 33/40\n",
      "4107/4107 - 0s - loss: 1.2070 - val_loss: 3.3794\n",
      "Epoch 34/40\n",
      "4107/4107 - 0s - loss: 1.2528 - val_loss: 4.3382\n",
      "Epoch 35/40\n",
      "4107/4107 - 0s - loss: 1.2445 - val_loss: 4.8380\n",
      "Epoch 36/40\n",
      "4107/4107 - 0s - loss: 1.2854 - val_loss: 4.7958\n",
      "Epoch 37/40\n",
      "4107/4107 - 0s - loss: 1.2708 - val_loss: 4.1041\n",
      "Epoch 38/40\n",
      "4107/4107 - 0s - loss: 1.1066 - val_loss: 4.3963\n",
      "Epoch 39/40\n",
      "4107/4107 - 0s - loss: 1.8825 - val_loss: 6.4005\n",
      "Epoch 40/40\n",
      "4107/4107 - 0s - loss: 1.2786 - val_loss: 4.4242\n"
     ]
    },
    {
     "data": {
      "text/plain": [
       "<tensorflow.python.keras.callbacks.History at 0x28655a69288>"
      ]
     },
     "execution_count": 11,
     "metadata": {},
     "output_type": "execute_result"
    }
   ],
   "source": [
    "mdl.fit(x=trn_X, y=trn_Y, validation_data=(val_X, val_Y), batch_size=256, epochs=40, verbose=2)"
   ]
  },
  {
   "cell_type": "code",
   "execution_count": 12,
   "metadata": {},
   "outputs": [],
   "source": [
    "for i in range(1, 3):\n",
    "    mdl.layers[i].trainable = False"
   ]
  },
  {
   "cell_type": "code",
   "execution_count": 13,
   "metadata": {},
   "outputs": [
    {
     "name": "stdout",
     "output_type": "stream",
     "text": [
      "Train on 219 samples, validate on 200 samples\n",
      "Epoch 1/40\n",
      "219/219 - 0s - loss: 8.6974 - val_loss: 7.4568\n",
      "Epoch 2/40\n",
      "219/219 - 0s - loss: 7.3086 - val_loss: 6.1254\n",
      "Epoch 3/40\n",
      "219/219 - 0s - loss: 5.7711 - val_loss: 5.4187\n",
      "Epoch 4/40\n",
      "219/219 - 0s - loss: 5.1058 - val_loss: 4.3536\n",
      "Epoch 5/40\n",
      "219/219 - 0s - loss: 4.3148 - val_loss: 3.6687\n",
      "Epoch 6/40\n",
      "219/219 - 0s - loss: 3.8518 - val_loss: 3.9144\n",
      "Epoch 7/40\n",
      "219/219 - 0s - loss: 3.7970 - val_loss: 4.3517\n",
      "Epoch 8/40\n",
      "219/219 - 0s - loss: 3.7185 - val_loss: 3.9862\n",
      "Epoch 9/40\n",
      "219/219 - 0s - loss: 3.2652 - val_loss: 3.4846\n",
      "Epoch 10/40\n",
      "219/219 - 0s - loss: 3.0891 - val_loss: 3.5750\n",
      "Epoch 11/40\n",
      "219/219 - 0s - loss: 3.0672 - val_loss: 4.1452\n",
      "Epoch 12/40\n",
      "219/219 - 0s - loss: 2.7922 - val_loss: 4.8632\n",
      "Epoch 13/40\n",
      "219/219 - 0s - loss: 2.6445 - val_loss: 4.7305\n",
      "Epoch 14/40\n",
      "219/219 - 0s - loss: 2.5973 - val_loss: 4.3898\n",
      "Epoch 15/40\n",
      "219/219 - 0s - loss: 2.3952 - val_loss: 4.6099\n",
      "Epoch 16/40\n",
      "219/219 - 0s - loss: 2.1060 - val_loss: 4.9804\n",
      "Epoch 17/40\n",
      "219/219 - 0s - loss: 2.1138 - val_loss: 4.6409\n",
      "Epoch 18/40\n",
      "219/219 - 0s - loss: 1.8881 - val_loss: 4.5810\n",
      "Epoch 19/40\n",
      "219/219 - 0s - loss: 1.6855 - val_loss: 5.0388\n",
      "Epoch 20/40\n",
      "219/219 - 0s - loss: 1.6306 - val_loss: 5.1399\n",
      "Epoch 21/40\n",
      "219/219 - 0s - loss: 1.4248 - val_loss: 5.0751\n",
      "Epoch 22/40\n",
      "219/219 - 0s - loss: 1.3342 - val_loss: 5.6411\n",
      "Epoch 23/40\n",
      "219/219 - 0s - loss: 1.3044 - val_loss: 5.3957\n",
      "Epoch 24/40\n",
      "219/219 - 0s - loss: 1.1327 - val_loss: 5.2052\n",
      "Epoch 25/40\n",
      "219/219 - 0s - loss: 1.0482 - val_loss: 5.5571\n",
      "Epoch 26/40\n",
      "219/219 - 0s - loss: 1.0378 - val_loss: 5.5242\n",
      "Epoch 27/40\n",
      "219/219 - 0s - loss: 0.9290 - val_loss: 5.7205\n",
      "Epoch 28/40\n",
      "219/219 - 0s - loss: 0.8728 - val_loss: 6.3734\n",
      "Epoch 29/40\n",
      "219/219 - 0s - loss: 0.8714 - val_loss: 6.1510\n",
      "Epoch 30/40\n",
      "219/219 - 0s - loss: 0.8329 - val_loss: 7.0545\n",
      "Epoch 31/40\n",
      "219/219 - 0s - loss: 0.8342 - val_loss: 6.1618\n",
      "Epoch 32/40\n",
      "219/219 - 0s - loss: 0.8221 - val_loss: 7.1159\n",
      "Epoch 33/40\n",
      "219/219 - 0s - loss: 0.7929 - val_loss: 5.8383\n",
      "Epoch 34/40\n",
      "219/219 - 0s - loss: 0.7804 - val_loss: 6.9411\n",
      "Epoch 35/40\n",
      "219/219 - 0s - loss: 0.6860 - val_loss: 6.6838\n",
      "Epoch 36/40\n",
      "219/219 - 0s - loss: 0.6054 - val_loss: 6.8253\n",
      "Epoch 37/40\n",
      "219/219 - 0s - loss: 0.6085 - val_loss: 7.3724\n",
      "Epoch 38/40\n",
      "219/219 - 0s - loss: 0.6137 - val_loss: 6.4329\n",
      "Epoch 39/40\n",
      "219/219 - 0s - loss: 0.6024 - val_loss: 6.7982\n",
      "Epoch 40/40\n",
      "219/219 - 0s - loss: 0.5546 - val_loss: 6.8591\n"
     ]
    },
    {
     "data": {
      "text/plain": [
       "<tensorflow.python.keras.callbacks.History at 0x288c919f1c8>"
      ]
     },
     "execution_count": 13,
     "metadata": {},
     "output_type": "execute_result"
    }
   ],
   "source": [
    "mdl.fit(x=trn_X2, y=trn_Y2, validation_data=(val_X2, val_Y2), batch_size=256, epochs=40, verbose=2)"
   ]
  },
  {
   "cell_type": "markdown",
   "metadata": {},
   "source": [
    "# Test"
   ]
  },
  {
   "cell_type": "code",
   "execution_count": 14,
   "metadata": {},
   "outputs": [],
   "source": [
    "pred_test = mdl.predict(test_X)\n",
    "pred_test_adj = pred_test.reshape([-1])"
   ]
  },
  {
   "cell_type": "code",
   "execution_count": 15,
   "metadata": {},
   "outputs": [
    {
     "name": "stdout",
     "output_type": "stream",
     "text": [
      "Submission file is written on ./subm/subm_0310011814.csv\n"
     ]
    }
   ],
   "source": [
    "writeSubm(pred_test_adj)"
   ]
  },
  {
   "cell_type": "markdown",
   "metadata": {},
   "source": [
    "# End"
   ]
  }
 ],
 "metadata": {
  "kernelspec": {
   "display_name": "Python 3",
   "language": "python",
   "name": "python3"
  },
  "language_info": {
   "codemirror_mode": {
    "name": "ipython",
    "version": 3
   },
   "file_extension": ".py",
   "mimetype": "text/x-python",
   "name": "python",
   "nbconvert_exporter": "python",
   "pygments_lexer": "ipython3",
   "version": "3.7.4"
  }
 },
 "nbformat": 4,
 "nbformat_minor": 4
}
