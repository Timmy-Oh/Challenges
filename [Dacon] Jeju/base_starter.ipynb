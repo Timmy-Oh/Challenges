{
 "cells": [
  {
   "cell_type": "code",
   "execution_count": 1,
   "metadata": {},
   "outputs": [],
   "source": [
    "import numpy as np\n",
    "import pandas as pd\n",
    "import warnings\n",
    "import geopy.distance\n",
    "from sklearn.model_selection import train_test_split\n",
    "\n",
    "warnings.filterwarnings('ignore')\n",
    "\n",
    "from sklearn.metrics import mean_squared_error\n",
    "import math"
   ]
  },
  {
   "cell_type": "code",
   "execution_count": 2,
   "metadata": {},
   "outputs": [],
   "source": [
    "train_df = pd.read_csv(\"./data/train.csv\")\n",
    "test_df = pd.read_csv(\"./data/test.csv\")"
   ]
  },
  {
   "cell_type": "code",
   "execution_count": 3,
   "metadata": {},
   "outputs": [],
   "source": [
    "idx_trn = train_df.date.isin(train_df.date.unique()[:-7])\n",
    "trn_df = train_df[idx_trn]\n",
    "val_df = train_df[np.invert(idx_trn)]"
   ]
  },
  {
   "cell_type": "markdown",
   "metadata": {},
   "source": [
    "# Function start"
   ]
  },
  {
   "cell_type": "code",
   "execution_count": 9,
   "metadata": {},
   "outputs": [],
   "source": [
    "def data_prepare(df):\n",
    "    \n",
    "    try:\n",
    "        y = df['18~20_ride']\n",
    "    except:\n",
    "        y = None\n",
    "        \n",
    "    df['date'] = pd.to_datetime(df['date'])\n",
    "    df['weekday'] = df['date'].dt.weekday\n",
    "    df = pd.get_dummies(df, columns=['weekday'])\n",
    "    df['in_out'] = df['in_out'].map({'시내':0,'시외':1})\n",
    "\n",
    "\n",
    "    coords_jejusi = (33.500770, 126.522761) #제주시의 위도 경도\n",
    "    coords_seoquipo = (33.259429, 126.558217) #서귀포시의 위도 경도\n",
    "\n",
    "    df['dis_jejusi'] = [geopy.distance.vincenty((df['latitude'].iloc[i], df['longitude'].iloc[i]), coords_jejusi).km for i in range(len(df))]\n",
    "    df['dis_seoquipo'] = [geopy.distance.vincenty((df['latitude'].iloc[i], df['longitude'].iloc[i]), coords_seoquipo).km for i in range(len(df))]\n",
    "    \n",
    "    return df, y"
   ]
  },
  {
   "cell_type": "code",
   "execution_count": 7,
   "metadata": {},
   "outputs": [],
   "source": [
    "trn, y_trn = data_prepare(trn_df)\n",
    "val, y_val = data_prepare(val_df)"
   ]
  },
  {
   "cell_type": "code",
   "execution_count": 10,
   "metadata": {},
   "outputs": [],
   "source": [
    "te, _ = data_prepare(test_df)"
   ]
  },
  {
   "cell_type": "code",
   "execution_count": 11,
   "metadata": {},
   "outputs": [],
   "source": [
    "input_var=['in_out','latitude','longitude','6~7_ride', '7~8_ride', '8~9_ride', '9~10_ride',\n",
    "       '10~11_ride', '11~12_ride', '6~7_takeoff', '7~8_takeoff', '8~9_takeoff',\n",
    "       '9~10_takeoff', '10~11_takeoff', '11~12_takeoff','weekday_0', 'weekday_1', 'weekday_2', 'weekday_3', 'weekday_4',\n",
    "       'weekday_5', 'weekday_6', 'dis_jejusi', 'dis_seoquipo']\n",
    "target=['18~20_ride']"
   ]
  },
  {
   "cell_type": "code",
   "execution_count": 12,
   "metadata": {},
   "outputs": [],
   "source": [
    "x_trn = trn[input_var]\n",
    "x_val = val[input_var]\n",
    "x_te = te[input_var]"
   ]
  },
  {
   "cell_type": "code",
   "execution_count": 42,
   "metadata": {},
   "outputs": [],
   "source": [
    "def esitimate_model(mdl, x_trn, y_trn, x_val, y_val):\n",
    "    trns = mdl.predict(x_trn)\n",
    "    vals = mdl.predict(x_val)\n",
    "\n",
    "    print(math.sqrt(mean_squared_error(y_true=y_trn, y_pred=trns)))\n",
    "    print(math.sqrt(mean_squared_error(y_true=y_val, y_pred=vals)))"
   ]
  },
  {
   "cell_type": "code",
   "execution_count": 40,
   "metadata": {},
   "outputs": [],
   "source": [
    "from sklearn.ensemble import RandomForestRegressor\n",
    "rf = ExtraTreesRegressor(max_depth=20, random_state=1991)"
   ]
  },
  {
   "cell_type": "code",
   "execution_count": 51,
   "metadata": {},
   "outputs": [],
   "source": [
    "import lightgbm as lgb"
   ]
  },
  {
   "cell_type": "code",
   "execution_count": 68,
   "metadata": {},
   "outputs": [],
   "source": [
    "m = lgb.LGBMRegressor(n_estimators=2000, num_leaves=31)"
   ]
  },
  {
   "cell_type": "code",
   "execution_count": 69,
   "metadata": {},
   "outputs": [
    {
     "data": {
      "text/plain": [
       "LGBMRegressor(boosting_type='gbdt', class_weight=None, colsample_bytree=1.0,\n",
       "              importance_type='split', learning_rate=0.1, max_depth=-1,\n",
       "              min_child_samples=20, min_child_weight=0.001, min_split_gain=0.0,\n",
       "              n_estimators=2000, n_jobs=-1, num_leaves=31, objective=None,\n",
       "              random_state=None, reg_alpha=0.0, reg_lambda=0.0, silent=True,\n",
       "              subsample=1.0, subsample_for_bin=200000, subsample_freq=0)"
      ]
     },
     "execution_count": 69,
     "metadata": {},
     "output_type": "execute_result"
    }
   ],
   "source": [
    "m.fit(x_trn, y_trn)"
   ]
  },
  {
   "cell_type": "code",
   "execution_count": 70,
   "metadata": {},
   "outputs": [
    {
     "name": "stdout",
     "output_type": "stream",
     "text": [
      "1.6630472310665352\n",
      "2.734588194272103\n"
     ]
    }
   ],
   "source": [
    "esitimate_model(m, x_trn, y_trn, x_val, y_val)"
   ]
  },
  {
   "cell_type": "markdown",
   "metadata": {},
   "source": [
    "# Sumbmission"
   ]
  },
  {
   "cell_type": "code",
   "execution_count": 72,
   "metadata": {},
   "outputs": [],
   "source": [
    "test_df['18~20_ride'] = m.predict(x_te)\n",
    "test_df[['id','18~20_ride']].to_csv(\"lgb_base.csv\",index=False)"
   ]
  },
  {
   "cell_type": "code",
   "execution_count": null,
   "metadata": {},
   "outputs": [],
   "source": []
  }
 ],
 "metadata": {
  "kernelspec": {
   "display_name": "Python 3",
   "language": "python",
   "name": "python3"
  },
  "language_info": {
   "codemirror_mode": {
    "name": "ipython",
    "version": 3
   },
   "file_extension": ".py",
   "mimetype": "text/x-python",
   "name": "python",
   "nbconvert_exporter": "python",
   "pygments_lexer": "ipython3",
   "version": "3.7.4"
  }
 },
 "nbformat": 4,
 "nbformat_minor": 4
}
