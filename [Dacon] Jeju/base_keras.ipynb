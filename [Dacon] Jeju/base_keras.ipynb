{
 "cells": [
  {
   "cell_type": "code",
   "execution_count": 1,
   "metadata": {},
   "outputs": [],
   "source": [
    "import numpy as np\n",
    "import pandas as pd\n",
    "import warnings\n",
    "import geopy.distance\n",
    "import tensorflow as tf\n",
    "from tensorflow import keras\n",
    "from sklearn.model_selection import train_test_split\n",
    "\n",
    "warnings.filterwarnings('ignore')\n",
    "\n",
    "from sklearn.metrics import mean_squared_error\n",
    "import math"
   ]
  },
  {
   "cell_type": "code",
   "execution_count": 2,
   "metadata": {},
   "outputs": [],
   "source": [
    "train_df = pd.read_csv(\"./data/train.csv\")\n",
    "test_df = pd.read_csv(\"./data/test.csv\")"
   ]
  },
  {
   "cell_type": "code",
   "execution_count": 3,
   "metadata": {},
   "outputs": [],
   "source": [
    "idx_trn = train_df.date.isin(train_df.date.unique()[:-7])\n",
    "trn_df = train_df[idx_trn]\n",
    "val_df = train_df[np.invert(idx_trn)]"
   ]
  },
  {
   "cell_type": "markdown",
   "metadata": {},
   "source": [
    "# Function start"
   ]
  },
  {
   "cell_type": "code",
   "execution_count": 4,
   "metadata": {},
   "outputs": [],
   "source": [
    "def data_prepare(df):\n",
    "    try:\n",
    "        y = df['18~20_ride']\n",
    "    except:\n",
    "        y = None\n",
    "        \n",
    "    df['date'] = pd.to_datetime(df['date'])\n",
    "    df['weekday'] = df['date'].dt.weekday\n",
    "    df = pd.get_dummies(df, columns=['weekday'])\n",
    "    df['in_out'] = df['in_out'].map({'시내':0,'시외':1})\n",
    "\n",
    "\n",
    "    coords_jejusi = (33.500770, 126.522761) #제주시의 위도 경도\n",
    "    coords_seoquipo = (33.259429, 126.558217) #서귀포시의 위도 경도\n",
    "\n",
    "    df['dis_jejusi'] = [geopy.distance.vincenty((df['latitude'].iloc[i], df['longitude'].iloc[i]), coords_jejusi).km for i in range(len(df))]\n",
    "    df['dis_seoquipo'] = [geopy.distance.vincenty((df['latitude'].iloc[i], df['longitude'].iloc[i]), coords_seoquipo).km for i in range(len(df))]\n",
    "    \n",
    "    return df, y"
   ]
  },
  {
   "cell_type": "code",
   "execution_count": 5,
   "metadata": {},
   "outputs": [],
   "source": [
    "trn, y_trn = data_prepare(trn_df)\n",
    "val, y_val = data_prepare(val_df)"
   ]
  },
  {
   "cell_type": "code",
   "execution_count": 6,
   "metadata": {},
   "outputs": [],
   "source": [
    "te, _ = data_prepare(test_df)"
   ]
  },
  {
   "cell_type": "code",
   "execution_count": 7,
   "metadata": {},
   "outputs": [],
   "source": [
    "input_var=['in_out','latitude','longitude','6~7_ride', '7~8_ride', '8~9_ride', '9~10_ride',\n",
    "       '10~11_ride', '11~12_ride', '6~7_takeoff', '7~8_takeoff', '8~9_takeoff',\n",
    "       '9~10_takeoff', '10~11_takeoff', '11~12_takeoff','weekday_0', 'weekday_1', 'weekday_2', 'weekday_3', 'weekday_4',\n",
    "       'weekday_5', 'weekday_6', 'dis_jejusi', 'dis_seoquipo']\n",
    "target=['18~20_ride']"
   ]
  },
  {
   "cell_type": "code",
   "execution_count": 8,
   "metadata": {},
   "outputs": [],
   "source": [
    "x_trn = trn[input_var]\n",
    "x_val = val[input_var]\n",
    "x_te = te[input_var]"
   ]
  },
  {
   "cell_type": "code",
   "execution_count": 88,
   "metadata": {},
   "outputs": [],
   "source": [
    "keras.backend.clear_session()"
   ]
  },
  {
   "cell_type": "code",
   "execution_count": 89,
   "metadata": {},
   "outputs": [],
   "source": [
    "inputs = keras.Input(shape=(24,))"
   ]
  },
  {
   "cell_type": "code",
   "execution_count": 90,
   "metadata": {},
   "outputs": [],
   "source": [
    "x = keras.layers.Dense(128, activation='relu')(inputs)"
   ]
  },
  {
   "cell_type": "code",
   "execution_count": 91,
   "metadata": {},
   "outputs": [],
   "source": [
    "x = keras.layers.Dense(256, activation='relu')(x)\n",
    "x = keras.layers.Dense(32, activation='tanh')(x)"
   ]
  },
  {
   "cell_type": "code",
   "execution_count": 92,
   "metadata": {},
   "outputs": [],
   "source": [
    "outputs = keras.layers.Dense(1, activation='linear')(x)"
   ]
  },
  {
   "cell_type": "code",
   "execution_count": 93,
   "metadata": {},
   "outputs": [],
   "source": [
    "model = keras.Model(inputs=inputs, outputs=outputs, name='dacon_c13_model')"
   ]
  },
  {
   "cell_type": "code",
   "execution_count": 94,
   "metadata": {},
   "outputs": [],
   "source": [
    "model.compile(loss='mse' )"
   ]
  },
  {
   "cell_type": "code",
   "execution_count": 95,
   "metadata": {},
   "outputs": [
    {
     "name": "stdout",
     "output_type": "stream",
     "text": [
      "WARNING:tensorflow:Falling back from v2 loop because of error: Failed to find data adapter that can handle input: <class 'pandas.core.frame.DataFrame'>, <class 'NoneType'>\n",
      "Train on 310687 samples, validate on 104736 samples\n",
      "Epoch 1/100\n",
      "310687/310687 [==============================] - 3s 10us/sample - loss: 18.4194 - val_loss: 15.7762\n",
      "Epoch 2/100\n",
      "310687/310687 [==============================] - 3s 9us/sample - loss: 15.3952 - val_loss: 14.3356\n",
      "Epoch 3/100\n",
      "310687/310687 [==============================] - 3s 9us/sample - loss: 14.4737 - val_loss: 13.7247\n",
      "Epoch 4/100\n",
      "310687/310687 [==============================] - 3s 9us/sample - loss: 13.9368 - val_loss: 13.0076\n",
      "Epoch 5/100\n",
      "310687/310687 [==============================] - 3s 9us/sample - loss: 13.6611 - val_loss: 13.8845\n",
      "Epoch 6/100\n",
      "310687/310687 [==============================] - 3s 9us/sample - loss: 13.5847 - val_loss: 12.9975\n",
      "Epoch 7/100\n",
      "310687/310687 [==============================] - 3s 9us/sample - loss: 13.3970 - val_loss: 12.7851\n",
      "Epoch 8/100\n",
      "310687/310687 [==============================] - 3s 9us/sample - loss: 13.4824 - val_loss: 12.8499\n",
      "Epoch 9/100\n",
      "310687/310687 [==============================] - 3s 9us/sample - loss: 13.4944 - val_loss: 13.2354\n",
      "Epoch 10/100\n",
      "310687/310687 [==============================] - 3s 9us/sample - loss: 13.5273 - val_loss: 13.5915\n",
      "Epoch 11/100\n",
      "310687/310687 [==============================] - 3s 9us/sample - loss: 13.5182 - val_loss: 12.8264\n",
      "Epoch 12/100\n",
      "310687/310687 [==============================] - 3s 9us/sample - loss: 13.4445 - val_loss: 13.4815\n",
      "Epoch 13/100\n",
      "310687/310687 [==============================] - 3s 9us/sample - loss: 13.5368 - val_loss: 12.8938\n",
      "Epoch 14/100\n",
      "310687/310687 [==============================] - 3s 9us/sample - loss: 13.5794 - val_loss: 13.6226\n",
      "Epoch 15/100\n",
      "310687/310687 [==============================] - 3s 9us/sample - loss: 13.8417 - val_loss: 13.2950\n",
      "Epoch 16/100\n",
      "310687/310687 [==============================] - 3s 9us/sample - loss: 13.7538 - val_loss: 13.6067\n",
      "Epoch 17/100\n",
      "310687/310687 [==============================] - 3s 9us/sample - loss: 14.0466 - val_loss: 13.7426\n",
      "Epoch 18/100\n",
      "310687/310687 [==============================] - 3s 9us/sample - loss: 14.2707 - val_loss: 13.4963\n",
      "Epoch 19/100\n",
      "310687/310687 [==============================] - 3s 9us/sample - loss: 14.1052 - val_loss: 13.9446\n",
      "Epoch 20/100\n",
      "310687/310687 [==============================] - 3s 9us/sample - loss: 14.1267 - val_loss: 13.5300\n",
      "Epoch 21/100\n",
      "310687/310687 [==============================] - 3s 9us/sample - loss: 14.5448 - val_loss: 13.5219\n",
      "Epoch 22/100\n",
      "310687/310687 [==============================] - 3s 9us/sample - loss: 14.5790 - val_loss: 13.4413\n",
      "Epoch 23/100\n",
      "310687/310687 [==============================] - 3s 9us/sample - loss: 14.3564 - val_loss: 13.2626\n",
      "Epoch 24/100\n",
      "310687/310687 [==============================] - 3s 9us/sample - loss: 14.4344 - val_loss: 14.6086\n",
      "Epoch 25/100\n",
      "310687/310687 [==============================] - 3s 9us/sample - loss: 14.2444 - val_loss: 13.7925\n",
      "Epoch 26/100\n",
      "310687/310687 [==============================] - 3s 9us/sample - loss: 13.9813 - val_loss: 13.5814\n",
      "Epoch 27/100\n",
      "310687/310687 [==============================] - 3s 9us/sample - loss: 13.7102 - val_loss: 13.1657\n",
      "Epoch 28/100\n",
      "310687/310687 [==============================] - 3s 9us/sample - loss: 13.8426 - val_loss: 12.7610\n",
      "Epoch 29/100\n",
      "310687/310687 [==============================] - 3s 9us/sample - loss: 13.5534 - val_loss: 13.3514\n",
      "Epoch 30/100\n",
      "310687/310687 [==============================] - 3s 9us/sample - loss: 13.5534 - val_loss: 12.8901\n",
      "Epoch 31/100\n",
      "310687/310687 [==============================] - 3s 9us/sample - loss: 13.4193 - val_loss: 12.4460\n",
      "Epoch 32/100\n",
      "310687/310687 [==============================] - 3s 9us/sample - loss: 13.7950 - val_loss: 13.2872\n",
      "Epoch 33/100\n",
      "310687/310687 [==============================] - 3s 9us/sample - loss: 14.2690 - val_loss: 13.7910\n",
      "Epoch 34/100\n",
      "310687/310687 [==============================] - 3s 9us/sample - loss: 14.4849 - val_loss: 13.5809\n",
      "Epoch 35/100\n",
      "310687/310687 [==============================] - 3s 10us/sample - loss: 14.2288 - val_loss: 13.1242\n",
      "Epoch 36/100\n",
      "310687/310687 [==============================] - 3s 10us/sample - loss: 13.9541 - val_loss: 12.9260\n",
      "Epoch 37/100\n",
      "310687/310687 [==============================] - 3s 10us/sample - loss: 13.8367 - val_loss: 12.8515\n",
      "Epoch 38/100\n",
      "310687/310687 [==============================] - 3s 10us/sample - loss: 13.6954 - val_loss: 13.3379\n",
      "Epoch 39/100\n",
      "310687/310687 [==============================] - 3s 10us/sample - loss: 13.5842 - val_loss: 12.9423\n",
      "Epoch 40/100\n",
      "310687/310687 [==============================] - 3s 10us/sample - loss: 13.2882 - val_loss: 12.0462\n",
      "Epoch 41/100\n",
      "310687/310687 [==============================] - 3s 10us/sample - loss: 13.1048 - val_loss: 12.1664\n",
      "Epoch 42/100\n",
      "310687/310687 [==============================] - 3s 9us/sample - loss: 13.1615 - val_loss: 12.7195\n",
      "Epoch 43/100\n",
      "310687/310687 [==============================] - 3s 9us/sample - loss: 13.4679 - val_loss: 12.5211\n",
      "Epoch 44/100\n",
      "310687/310687 [==============================] - 3s 9us/sample - loss: 13.4570 - val_loss: 14.0138\n",
      "Epoch 45/100\n",
      "310687/310687 [==============================] - 3s 9us/sample - loss: 13.6199 - val_loss: 12.4470\n",
      "Epoch 46/100\n",
      "310687/310687 [==============================] - 3s 9us/sample - loss: 13.2038 - val_loss: 13.3501\n",
      "Epoch 47/100\n",
      "310687/310687 [==============================] - 3s 9us/sample - loss: 13.1897 - val_loss: 12.7927\n",
      "Epoch 48/100\n",
      "310687/310687 [==============================] - 3s 9us/sample - loss: 13.0633 - val_loss: 12.3826\n",
      "Epoch 49/100\n",
      "310687/310687 [==============================] - 3s 9us/sample - loss: 12.9585 - val_loss: 12.0084\n",
      "Epoch 50/100\n",
      "310687/310687 [==============================] - 3s 9us/sample - loss: 13.1598 - val_loss: 12.6447\n",
      "Epoch 51/100\n",
      "310687/310687 [==============================] - 3s 9us/sample - loss: 13.2012 - val_loss: 12.1724\n",
      "Epoch 52/100\n",
      "310687/310687 [==============================] - 3s 9us/sample - loss: 13.1564 - val_loss: 13.0872\n",
      "Epoch 53/100\n",
      "310687/310687 [==============================] - 3s 9us/sample - loss: 13.1817 - val_loss: 12.3017\n",
      "Epoch 54/100\n",
      "310687/310687 [==============================] - 3s 9us/sample - loss: 13.2514 - val_loss: 12.0066\n",
      "Epoch 55/100\n",
      "310687/310687 [==============================] - 3s 9us/sample - loss: 13.2075 - val_loss: 12.8962\n",
      "Epoch 56/100\n",
      "310687/310687 [==============================] - 3s 9us/sample - loss: 13.1337 - val_loss: 12.8172\n",
      "Epoch 57/100\n",
      "310687/310687 [==============================] - 3s 9us/sample - loss: 13.2018 - val_loss: 13.0822\n",
      "Epoch 58/100\n",
      "310687/310687 [==============================] - 3s 9us/sample - loss: 13.2160 - val_loss: 12.3107\n",
      "Epoch 59/100\n",
      "310687/310687 [==============================] - 3s 10us/sample - loss: 12.8962 - val_loss: 12.4849\n",
      "Epoch 60/100\n",
      "310687/310687 [==============================] - 3s 9us/sample - loss: 12.8332 - val_loss: 11.7785\n",
      "Epoch 61/100\n",
      "310687/310687 [==============================] - 3s 9us/sample - loss: 12.7628 - val_loss: 11.8610\n",
      "Epoch 62/100\n",
      "310687/310687 [==============================] - 3s 9us/sample - loss: 12.5845 - val_loss: 11.8847\n",
      "Epoch 63/100\n",
      "310687/310687 [==============================] - 3s 9us/sample - loss: 12.7228 - val_loss: 12.7605\n",
      "Epoch 64/100\n",
      "310687/310687 [==============================] - 3s 9us/sample - loss: 13.3916 - val_loss: 12.8588\n",
      "Epoch 65/100\n",
      "310687/310687 [==============================] - 3s 9us/sample - loss: 13.0404 - val_loss: 13.6703\n",
      "Epoch 66/100\n",
      "310687/310687 [==============================] - 3s 9us/sample - loss: 12.7709 - val_loss: 12.5536\n",
      "Epoch 67/100\n",
      "310687/310687 [==============================] - 3s 9us/sample - loss: 12.2946 - val_loss: 11.8447\n",
      "Epoch 68/100\n",
      "310687/310687 [==============================] - 3s 9us/sample - loss: 12.0613 - val_loss: 11.7044\n",
      "Epoch 69/100\n",
      "310687/310687 [==============================] - 3s 9us/sample - loss: 12.0752 - val_loss: 11.7297\n",
      "Epoch 70/100\n",
      "310687/310687 [==============================] - 3s 9us/sample - loss: 12.1614 - val_loss: 11.5366\n",
      "Epoch 71/100\n",
      "310687/310687 [==============================] - 3s 9us/sample - loss: 12.0881 - val_loss: 11.4305\n",
      "Epoch 72/100\n",
      "310687/310687 [==============================] - 3s 9us/sample - loss: 12.0217 - val_loss: 11.3519\n",
      "Epoch 73/100\n",
      "310687/310687 [==============================] - 3s 9us/sample - loss: 11.8763 - val_loss: 11.1112\n",
      "Epoch 74/100\n",
      "310687/310687 [==============================] - 3s 9us/sample - loss: 11.8907 - val_loss: 11.0795\n",
      "Epoch 75/100\n",
      "310687/310687 [==============================] - 3s 9us/sample - loss: 11.7299 - val_loss: 11.0859\n",
      "Epoch 76/100\n",
      "310687/310687 [==============================] - 3s 9us/sample - loss: 11.8110 - val_loss: 11.3829\n",
      "Epoch 77/100\n",
      "310687/310687 [==============================] - 3s 10us/sample - loss: 11.7507 - val_loss: 11.8271\n",
      "Epoch 78/100\n",
      "310687/310687 [==============================] - 3s 10us/sample - loss: 11.6795 - val_loss: 11.7886\n",
      "Epoch 79/100\n",
      "310687/310687 [==============================] - 3s 10us/sample - loss: 11.6099 - val_loss: 12.8480\n",
      "Epoch 80/100\n",
      "310687/310687 [==============================] - 3s 10us/sample - loss: 11.8549 - val_loss: 11.0924\n",
      "Epoch 81/100\n",
      "310687/310687 [==============================] - 3s 10us/sample - loss: 11.6770 - val_loss: 10.8363\n",
      "Epoch 82/100\n",
      "310687/310687 [==============================] - 3s 10us/sample - loss: 11.4457 - val_loss: 10.8301\n",
      "Epoch 83/100\n",
      "310687/310687 [==============================] - 3s 10us/sample - loss: 11.5548 - val_loss: 11.1582\n",
      "Epoch 84/100\n",
      "310687/310687 [==============================] - 3s 9us/sample - loss: 11.2287 - val_loss: 11.2196\n",
      "Epoch 85/100\n",
      "310687/310687 [==============================] - 3s 9us/sample - loss: 11.2444 - val_loss: 11.1391\n",
      "Epoch 86/100\n",
      "310687/310687 [==============================] - 3s 9us/sample - loss: 11.3883 - val_loss: 10.6577\n",
      "Epoch 87/100\n",
      "310687/310687 [==============================] - 3s 10us/sample - loss: 11.4375 - val_loss: 10.6830\n",
      "Epoch 88/100\n",
      "310687/310687 [==============================] - 3s 10us/sample - loss: 11.2597 - val_loss: 10.6130\n",
      "Epoch 89/100\n",
      "310687/310687 [==============================] - 3s 9us/sample - loss: 10.9663 - val_loss: 11.8167\n",
      "Epoch 90/100\n",
      "310687/310687 [==============================] - 3s 9us/sample - loss: 11.0458 - val_loss: 10.6779\n",
      "Epoch 91/100\n",
      "310687/310687 [==============================] - 3s 9us/sample - loss: 11.0221 - val_loss: 11.1514\n",
      "Epoch 92/100\n",
      "310687/310687 [==============================] - 3s 9us/sample - loss: 11.0475 - val_loss: 10.6083\n",
      "Epoch 93/100\n",
      "310687/310687 [==============================] - 3s 9us/sample - loss: 10.8811 - val_loss: 11.2486\n",
      "Epoch 94/100\n",
      "310687/310687 [==============================] - 3s 9us/sample - loss: 10.8521 - val_loss: 11.1968\n",
      "Epoch 95/100\n",
      "310687/310687 [==============================] - 3s 9us/sample - loss: 10.7488 - val_loss: 10.8135\n",
      "Epoch 96/100\n",
      "310687/310687 [==============================] - 3s 9us/sample - loss: 10.8363 - val_loss: 11.0828\n",
      "Epoch 97/100\n",
      "310687/310687 [==============================] - 3s 9us/sample - loss: 10.9318 - val_loss: 10.6937\n",
      "Epoch 98/100\n",
      "310687/310687 [==============================] - 3s 9us/sample - loss: 10.8891 - val_loss: 11.3404\n",
      "Epoch 99/100\n",
      "310687/310687 [==============================] - 3s 9us/sample - loss: 10.9698 - val_loss: 11.3691\n",
      "Epoch 100/100\n",
      "310687/310687 [==============================] - 3s 9us/sample - loss: 11.0104 - val_loss: 10.8327\n"
     ]
    },
    {
     "data": {
      "text/plain": [
       "<tensorflow.python.keras.callbacks.History at 0x23e4ae51148>"
      ]
     },
     "execution_count": 95,
     "metadata": {},
     "output_type": "execute_result"
    }
   ],
   "source": [
    "model.fit(x=x_trn,\n",
    "          y=y_trn,\n",
    "          batch_size=512,epochs=100,validation_data=(x_val, y_val)\n",
    "         )"
   ]
  },
  {
   "cell_type": "code",
   "execution_count": null,
   "metadata": {},
   "outputs": [],
   "source": [
    "# emb_week = keras.layers.Embedding(7, 3)"
   ]
  },
  {
   "cell_type": "code",
   "execution_count": null,
   "metadata": {},
   "outputs": [],
   "source": []
  },
  {
   "cell_type": "code",
   "execution_count": null,
   "metadata": {},
   "outputs": [],
   "source": []
  },
  {
   "cell_type": "code",
   "execution_count": 42,
   "metadata": {},
   "outputs": [],
   "source": [
    "def esitimate_model(mdl, x_trn, y_trn, x_val, y_val):\n",
    "    trns = mdl.predict(x_trn)\n",
    "    vals = mdl.predict(x_val)\n",
    "\n",
    "    print(math.sqrt(mean_squared_error(y_true=y_trn, y_pred=trns)))\n",
    "    print(math.sqrt(mean_squared_error(y_true=y_val, y_pred=vals)))"
   ]
  },
  {
   "cell_type": "code",
   "execution_count": 40,
   "metadata": {},
   "outputs": [],
   "source": [
    "from sklearn.ensemble import RandomForestRegressor\n",
    "rf = ExtraTreesRegressor(max_depth=20, random_state=1991)"
   ]
  },
  {
   "cell_type": "code",
   "execution_count": 51,
   "metadata": {},
   "outputs": [],
   "source": [
    "import lightgbm as lgb"
   ]
  },
  {
   "cell_type": "code",
   "execution_count": 68,
   "metadata": {},
   "outputs": [],
   "source": [
    "m = lgb.LGBMRegressor(n_estimators=2000, num_leaves=31)"
   ]
  },
  {
   "cell_type": "code",
   "execution_count": 69,
   "metadata": {},
   "outputs": [
    {
     "data": {
      "text/plain": [
       "LGBMRegressor(boosting_type='gbdt', class_weight=None, colsample_bytree=1.0,\n",
       "              importance_type='split', learning_rate=0.1, max_depth=-1,\n",
       "              min_child_samples=20, min_child_weight=0.001, min_split_gain=0.0,\n",
       "              n_estimators=2000, n_jobs=-1, num_leaves=31, objective=None,\n",
       "              random_state=None, reg_alpha=0.0, reg_lambda=0.0, silent=True,\n",
       "              subsample=1.0, subsample_for_bin=200000, subsample_freq=0)"
      ]
     },
     "execution_count": 69,
     "metadata": {},
     "output_type": "execute_result"
    }
   ],
   "source": [
    "m.fit(x_trn, y_trn)"
   ]
  },
  {
   "cell_type": "code",
   "execution_count": 70,
   "metadata": {},
   "outputs": [
    {
     "name": "stdout",
     "output_type": "stream",
     "text": [
      "1.6630472310665352\n",
      "2.734588194272103\n"
     ]
    }
   ],
   "source": [
    "esitimate_model(m, x_trn, y_trn, x_val, y_val)"
   ]
  },
  {
   "cell_type": "markdown",
   "metadata": {},
   "source": [
    "# Sumbmission"
   ]
  },
  {
   "cell_type": "code",
   "execution_count": 72,
   "metadata": {},
   "outputs": [],
   "source": [
    "test_df['18~20_ride'] = m.predict(x_te)\n",
    "test_df[['id','18~20_ride']].to_csv(\"lgb_base.csv\",index=False)"
   ]
  },
  {
   "cell_type": "code",
   "execution_count": null,
   "metadata": {},
   "outputs": [],
   "source": []
  }
 ],
 "metadata": {
  "kernelspec": {
   "display_name": "Python 3",
   "language": "python",
   "name": "python3"
  },
  "language_info": {
   "codemirror_mode": {
    "name": "ipython",
    "version": 3
   },
   "file_extension": ".py",
   "mimetype": "text/x-python",
   "name": "python",
   "nbconvert_exporter": "python",
   "pygments_lexer": "ipython3",
   "version": "3.7.4"
  }
 },
 "nbformat": 4,
 "nbformat_minor": 4
}
